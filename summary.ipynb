{
 "metadata": {
  "language_info": {
   "codemirror_mode": {
    "name": "ipython",
    "version": 3
   },
   "file_extension": ".py",
   "mimetype": "text/x-python",
   "name": "python",
   "nbconvert_exporter": "python",
   "pygments_lexer": "ipython3",
   "version": "3.7.0-final"
  },
  "orig_nbformat": 2,
  "kernelspec": {
   "name": "python37064bit18a955390dfc4fa4b06b9032bf3e7c01",
   "display_name": "Python 3.7.0 64-bit"
  }
 },
 "nbformat": 4,
 "nbformat_minor": 2,
 "cells": [
  {
   "source": [
    "# Week 2"
   ],
   "cell_type": "markdown",
   "metadata": {}
  },
  {
   "cell_type": "code",
   "execution_count": 3,
   "metadata": {},
   "outputs": [],
   "source": [
    "import pandas as pd"
   ]
  },
  {
   "source": [
    "## Series Data Structure"
   ],
   "cell_type": "markdown",
   "metadata": {}
  },
  {
   "cell_type": "code",
   "execution_count": null,
   "metadata": {},
   "outputs": [],
   "source": [
    "# convert dict, list, numpy array to series\n",
    "animals = pd.Series(animals)\n",
    "# get the index\n",
    "animals.index\n",
    "## querying\n",
    "animals.iloc[int]\n",
    "animal.loc[\"index\"]\n",
    "## get running time\n",
    "%%timeit -n 100\n",
    "## 遍历\n",
    "for label, value in s.iteritems():\n",
    "    \n",
    "## new rows:\n",
    "animals.loc[\"new_row_name\"] = value"
   ]
  },
  {
   "source": [
    "## DataFrame"
   ],
   "cell_type": "markdown",
   "metadata": {}
  },
  {
   "cell_type": "code",
   "execution_count": null,
   "metadata": {},
   "outputs": [],
   "source": [
    "## get one row\n",
    "df.loc[\"index\"]\n",
    "df.iloc[int] ##return a Series \n",
    "\n",
    "## get one column\n",
    "df[\"Column_name\"]\n",
    "\n",
    "## row and column: \n",
    "df.loc[row][column]\n",
    "\n",
    "## to-do\n",
    "df.loc[:, ['Name', 'Cost']]\n",
    "\n",
    "## drop rows\n",
    "df.drop(\"index\")\n",
    "df.drop([\"index1\", \"index2\"])  # todo\n",
    "\n",
    "## 遍历columns\n",
    "for col in df.columns\n",
    "\n",
    "## rename\n",
    "# rename columns\n",
    "df.rename(columns={\"old\": \"new\", \"old2\": \"new2\", ...})\n",
    "# rename index\n",
    "df.rename(index= {\"old1\": \"new1\", ...})"
   ]
  },
  {
   "source": [
    "### Querying a DataFrame"
   ],
   "cell_type": "markdown",
   "metadata": {}
  },
  {
   "cell_type": "code",
   "execution_count": null,
   "metadata": {},
   "outputs": [],
   "source": [
    "## boolean mask, 筛选出符合条件的columns\n",
    "df = df[boolean]\n",
    "boolean can be: df[\"column\"] == 0, or df['column'] > 0, etc. \n",
    "or \n",
    "(boolean & boolean)  # parentheses are necessary\n",
    "\n",
    "## 计数\n",
    "df[\"column\"].count()\n",
    "\n",
    "## dropna()\n",
    "df.dropna()"
   ]
  },
  {
   "source": [
    "### Indexing DataFrames"
   ],
   "cell_type": "markdown",
   "metadata": {}
  },
  {
   "cell_type": "code",
   "execution_count": null,
   "metadata": {},
   "outputs": [],
   "source": [
    "df.set_index(\"columns_name\")\n",
    "# 这个columns 就会到前面并且变成index\n",
    "\n",
    "df.reset_index()\n",
    "# 去掉以前的index, 并且用一个系统内建的index(0,1,2,3,4) 来代替\n",
    "\n",
    "df[\"column\"].unique()\n",
    "\n",
    "## more than one index\n",
    "df.set_index([\"index1\", \"index2\"]) ## [] is necessary\n",
    "df.loc[\"element in index1\", 'element in index 2']"
   ]
  },
  {
   "source": [
    "## Assignemnt 2"
   ],
   "cell_type": "markdown",
   "metadata": {}
  },
  {
   "cell_type": "code",
   "execution_count": null,
   "metadata": {},
   "outputs": [],
   "source": [
    "## 求一行或一列的最小值: \n",
    "a.max(axis= 1)\n",
    "a.max(axis= 0)\n",
    "\n",
    "census_df[census_df['SUMLEV'] == 50].groupby('STNAME')['CENSUS2010POP'].apply(lambda x: x.nlargest(3).sum()).nlargest(3).index.values.tolist()\n",
    "\n",
    "## todo\n"
   ]
  },
  {
   "source": [
    "# Week 3"
   ],
   "cell_type": "markdown",
   "metadata": {}
  },
  {
   "cell_type": "code",
   "execution_count": null,
   "metadata": {},
   "outputs": [],
   "source": [
    "## merge dataframe\n",
    "pd.merge(df1, df2, how= \"outer\", left_on= \" \", right_on= \" \")\n",
    "inner, outer, left, right\n",
    "right_on, 和left_on\n",
    "作为比较的key, 可以是一个list\n",
    "比如left_on\n"
   ]
  }
 ]
}